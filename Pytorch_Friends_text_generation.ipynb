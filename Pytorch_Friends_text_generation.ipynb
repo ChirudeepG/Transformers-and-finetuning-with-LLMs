{
  "nbformat": 4,
  "nbformat_minor": 0,
  "metadata": {
    "colab": {
      "provenance": [],
      "gpuType": "A100",
      "machine_shape": "hm",
      "include_colab_link": true
    },
    "kernelspec": {
      "name": "python3",
      "display_name": "Python 3"
    },
    "language_info": {
      "name": "python"
    },
    "accelerator": "GPU"
  },
  "cells": [
    {
      "cell_type": "markdown",
      "metadata": {
        "id": "view-in-github",
        "colab_type": "text"
      },
      "source": [
        "<a href=\"https://colab.research.google.com/github/ChirudeepG/Transformers-and-finetuning-with-LLMs/blob/main/Pytorch_Friends_text_generation.ipynb\" target=\"_parent\"><img src=\"https://colab.research.google.com/assets/colab-badge.svg\" alt=\"Open In Colab\"/></a>"
      ]
    },
    {
      "cell_type": "code",
      "execution_count": 12,
      "metadata": {
        "id": "PkAA4eb22yzC"
      },
      "outputs": [],
      "source": [
        "import torch\n",
        "import torch.nn as nn\n",
        "from torch.nn import functional as F"
      ]
    },
    {
      "cell_type": "code",
      "source": [
        "batch_size = 16\n",
        "block_size = 32\n",
        "max_iters = 5000\n",
        "eval_interval = 100\n",
        "learning_rate = 1e-3\n",
        "device = 'cuda' if torch.cuda.is_available() else 'cpu'\n",
        "eval_iters = 200\n",
        "n_embd = 64\n",
        "n_head = 4\n",
        "n_layer = 4\n",
        "dropout = 0.0\n",
        "torch.manual_seed(1337)"
      ],
      "metadata": {
        "colab": {
          "base_uri": "https://localhost:8080/"
        },
        "id": "kkNRhfDv27mA",
        "outputId": "aa6d3f08-7d73-4032-f976-317bb1ba30a1"
      },
      "execution_count": 13,
      "outputs": [
        {
          "output_type": "execute_result",
          "data": {
            "text/plain": [
              "<torch._C.Generator at 0x7dcb483a0830>"
            ]
          },
          "metadata": {},
          "execution_count": 13
        }
      ]
    },
    {
      "cell_type": "code",
      "source": [
        "with open('/content/sample_data/S01E07 The Blackout.txt', 'r', encoding='utf-8') as f:\n",
        "    text = f.read()\n",
        "\n",
        "# here are all the unique characters that occur in this text\n",
        "chars = sorted(list(set(text)))\n",
        "vocab_size = len(chars)\n",
        "# create a mapping from characters to integers\n",
        "stoi = { ch:i for i,ch in enumerate(chars) }\n",
        "itos = { i:ch for i,ch in enumerate(chars) }\n",
        "\n",
        "encode = lambda s: [stoi[c] for c in s] # encoder: take a string, output a list of integers\n",
        "decode = lambda l: ''.join([itos[i] for i in l]) # decoder: take a list of integers, output a string"
      ],
      "metadata": {
        "id": "73QRG9_v3QRQ"
      },
      "execution_count": 14,
      "outputs": []
    },
    {
      "cell_type": "code",
      "source": [
        "# Train and test splits\n",
        "data = torch.tensor(encode(text), dtype=torch.long)\n",
        "n = int(0.9*len(data)) # first 90% will be train, rest val\n",
        "train_data = data[:n]\n",
        "val_data = data[n:]"
      ],
      "metadata": {
        "id": "sDMUpyG23rsk"
      },
      "execution_count": 15,
      "outputs": []
    },
    {
      "cell_type": "code",
      "source": [
        "# data loading\n",
        "def get_batch(split):\n",
        "    # generate a small batch of data of inputs x and targets y\n",
        "    data = train_data if split == 'train' else val_data\n",
        "    ix = torch.randint(len(data) - block_size, (batch_size,))\n",
        "    x = torch.stack([data[i:i+block_size] for i in ix])\n",
        "    y = torch.stack([data[i+1:i+block_size+1] for i in ix])\n",
        "    x, y = x.to(device), y.to(device)\n",
        "    return x, y\n"
      ],
      "metadata": {
        "id": "P47xanG73zno"
      },
      "execution_count": 16,
      "outputs": []
    },
    {
      "cell_type": "code",
      "source": [
        "@torch.no_grad()\n",
        "def estimate_loss():\n",
        "    out = {}\n",
        "    model.eval()\n",
        "    for split in ['train', 'val']:\n",
        "        losses = torch.zeros(eval_iters)\n",
        "        for k in range(eval_iters):\n",
        "            X, Y = get_batch(split)\n",
        "            logits, loss = model(X, Y)\n",
        "            losses[k] = loss.item()\n",
        "        out[split] = losses.mean()\n",
        "    model.train()\n",
        "    return out"
      ],
      "metadata": {
        "id": "E3jCSz2a3-SO"
      },
      "execution_count": 17,
      "outputs": []
    },
    {
      "cell_type": "code",
      "source": [
        "class Head(nn.Module):\n",
        "    \"\"\" one head of self-attention \"\"\"\n",
        "\n",
        "    def __init__(self, head_size):\n",
        "        super().__init__()\n",
        "        self.key = nn.Linear(n_embd, head_size, bias=False)\n",
        "        self.query = nn.Linear(n_embd, head_size, bias=False)\n",
        "        self.value = nn.Linear(n_embd, head_size, bias=False)\n",
        "        self.register_buffer('tril', torch.tril(torch.ones(block_size, block_size)))\n",
        "\n",
        "        self.dropout = nn.Dropout(dropout)\n",
        "\n",
        "    def forward(self, x):\n",
        "        B,T,C = x.shape\n",
        "        k = self.key(x)   # (B,T,C)\n",
        "        q = self.query(x) # (B,T,C)\n",
        "        # compute attention scores (\"affinities\")\n",
        "        wei = q @ k.transpose(-2,-1) * C**-0.5 # (B, T, C) @ (B, C, T) -> (B, T, T)\n",
        "        wei = wei.masked_fill(self.tril[:T, :T] == 0, float('-inf')) # (B, T, T)\n",
        "        wei = F.softmax(wei, dim=-1) # (B, T, T)\n",
        "        wei = self.dropout(wei)\n",
        "        # perform the weighted aggregation of the values\n",
        "        v = self.value(x) # (B,T,C)\n",
        "        out = wei @ v # (B, T, T) @ (B, T, C) -> (B, T, C)\n",
        "        return out\n",
        "\n",
        "class MultiHeadAttention(nn.Module):\n",
        "    \"\"\" multiple heads of self-attention in parallel \"\"\"\n",
        "\n",
        "    def __init__(self, num_heads, head_size):\n",
        "        super().__init__()\n",
        "        self.heads = nn.ModuleList([Head(head_size) for _ in range(num_heads)])\n",
        "        self.proj = nn.Linear(n_embd, n_embd)\n",
        "        self.dropout = nn.Dropout(dropout)\n",
        "\n",
        "    def forward(self, x):\n",
        "        out = torch.cat([h(x) for h in self.heads], dim=-1)\n",
        "        out = self.dropout(self.proj(out))\n",
        "        return out\n",
        "\n",
        "class FeedFoward(nn.Module):\n",
        "    \"\"\" a simple linear layer followed by a non-linearity \"\"\"\n",
        "\n",
        "    def __init__(self, n_embd):\n",
        "        super().__init__()\n",
        "        self.net = nn.Sequential(\n",
        "            nn.Linear(n_embd, 4 * n_embd),\n",
        "            nn.ReLU(),\n",
        "            nn.Linear(4 * n_embd, n_embd),\n",
        "            nn.Dropout(dropout),\n",
        "        )\n",
        "\n",
        "    def forward(self, x):\n",
        "        return self.net(x)\n",
        "\n",
        "class Block(nn.Module):\n",
        "    \"\"\" Transformer block: communication followed by computation \"\"\"\n",
        "\n",
        "    def __init__(self, n_embd, n_head):\n",
        "        # n_embd: embedding dimension, n_head: the number of heads we'd like\n",
        "        super().__init__()\n",
        "        head_size = n_embd // n_head\n",
        "        self.sa = MultiHeadAttention(n_head, head_size)\n",
        "        self.ffwd = FeedFoward(n_embd)\n",
        "        self.ln1 = nn.LayerNorm(n_embd)\n",
        "        self.ln2 = nn.LayerNorm(n_embd)\n",
        "\n",
        "    def forward(self, x):\n",
        "        x = x + self.sa(self.ln1(x))\n",
        "        x = x + self.ffwd(self.ln2(x))\n",
        "        return x\n"
      ],
      "metadata": {
        "id": "MZJPk3c24Lbo"
      },
      "execution_count": 18,
      "outputs": []
    },
    {
      "cell_type": "code",
      "source": [
        "# super simple bigram model\n",
        "class BigramLanguageModel(nn.Module):\n",
        "\n",
        "    def __init__(self):\n",
        "        super().__init__()\n",
        "        # each token directly reads off the logits for the next token from a lookup table\n",
        "        self.token_embedding_table = nn.Embedding(vocab_size, n_embd)\n",
        "        self.position_embedding_table = nn.Embedding(block_size, n_embd)\n",
        "        self.blocks = nn.Sequential(*[Block(n_embd, n_head=n_head) for _ in range(n_layer)])\n",
        "        self.ln_f = nn.LayerNorm(n_embd) # final layer norm\n",
        "        self.lm_head = nn.Linear(n_embd, vocab_size)\n",
        "\n",
        "    def forward(self, idx, targets=None):\n",
        "        B, T = idx.shape\n",
        "\n",
        "        # idx and targets are both (B,T) tensor of integers\n",
        "        tok_emb = self.token_embedding_table(idx) # (B,T,C)\n",
        "        pos_emb = self.position_embedding_table(torch.arange(T, device=device)) # (T,C)\n",
        "        x = tok_emb + pos_emb # (B,T,C)\n",
        "        x = self.blocks(x) # (B,T,C)\n",
        "        x = self.ln_f(x) # (B,T,C)\n",
        "        logits = self.lm_head(x) # (B,T,vocab_size)\n",
        "\n",
        "        if targets is None:\n",
        "            loss = None\n",
        "        else:\n",
        "            B, T, C = logits.shape\n",
        "            logits = logits.view(B*T, C)\n",
        "            targets = targets.view(B*T)\n",
        "            loss = F.cross_entropy(logits, targets)\n",
        "\n",
        "        return logits, loss\n",
        "\n",
        "    def generate(self, idx, max_new_tokens):\n",
        "        # idx is (B, T) array of indices in the current context\n",
        "        for _ in range(max_new_tokens):\n",
        "            # crop idx to the last block_size tokens\n",
        "            idx_cond = idx[:, -block_size:]\n",
        "            # get the predictions\n",
        "            logits, loss = self(idx_cond)\n",
        "            # focus only on the last time step\n",
        "            logits = logits[:, -1, :] # becomes (B, C)\n",
        "            # apply softmax to get probabilities\n",
        "            probs = F.softmax(logits, dim=-1) # (B, C)\n",
        "            # sample from the distribution\n",
        "            idx_next = torch.multinomial(probs, num_samples=1) # (B, 1)\n",
        "            # append sampled index to the running sequence\n",
        "            idx = torch.cat((idx, idx_next), dim=1) # (B, T+1)\n",
        "        return idx"
      ],
      "metadata": {
        "id": "GjL0y3Zp4Rwo"
      },
      "execution_count": 19,
      "outputs": []
    },
    {
      "cell_type": "code",
      "source": [
        "model = BigramLanguageModel()\n",
        "m = model.to(device)\n",
        "# print the number of parameters in the model\n",
        "print(sum(p.numel() for p in m.parameters())/1e6, 'M parameters')\n",
        "\n",
        "# create a PyTorch optimizer\n",
        "optimizer = torch.optim.AdamW(model.parameters(), lr=learning_rate)\n",
        "\n",
        "for iter in range(max_iters):\n",
        "\n",
        "    # every once in a while evaluate the loss on train and val sets\n",
        "    if iter % eval_interval == 0 or iter == max_iters - 1:\n",
        "        losses = estimate_loss()\n",
        "        print(f\"step {iter}: train loss {losses['train']:.4f}, val loss {losses['val']:.4f}\")\n",
        "\n",
        "    # sample a batch of data\n",
        "    xb, yb = get_batch('train')\n",
        "\n",
        "    # evaluate the loss\n",
        "    logits, loss = model(xb, yb)\n",
        "    optimizer.zero_grad(set_to_none=True)\n",
        "    loss.backward()\n",
        "    optimizer.step()\n"
      ],
      "metadata": {
        "colab": {
          "base_uri": "https://localhost:8080/"
        },
        "id": "h7CYFE_y4g28",
        "outputId": "3a9041dd-74f3-43f0-b5ba-42d37e91c33b"
      },
      "execution_count": 20,
      "outputs": [
        {
          "output_type": "stream",
          "name": "stdout",
          "text": [
            "0.210761 M parameters\n",
            "step 0: train loss 4.5006, val loss 4.5146\n",
            "step 100: train loss 2.5761, val loss 2.5991\n",
            "step 200: train loss 2.3541, val loss 2.4332\n",
            "step 300: train loss 2.2088, val loss 2.3251\n",
            "step 400: train loss 2.0674, val loss 2.2399\n",
            "step 500: train loss 1.9197, val loss 2.1298\n",
            "step 600: train loss 1.7994, val loss 2.0543\n",
            "step 700: train loss 1.7145, val loss 2.0150\n",
            "step 800: train loss 1.6414, val loss 2.0096\n",
            "step 900: train loss 1.5662, val loss 2.0102\n",
            "step 1000: train loss 1.4913, val loss 2.0080\n",
            "step 1100: train loss 1.4324, val loss 1.9897\n",
            "step 1200: train loss 1.3600, val loss 1.9842\n",
            "step 1300: train loss 1.2980, val loss 2.0018\n",
            "step 1400: train loss 1.2488, val loss 2.0514\n",
            "step 1500: train loss 1.2226, val loss 2.0807\n",
            "step 1600: train loss 1.1572, val loss 2.1142\n",
            "step 1700: train loss 1.0951, val loss 2.0870\n",
            "step 1800: train loss 1.0303, val loss 2.1799\n",
            "step 1900: train loss 0.9963, val loss 2.1376\n",
            "step 2000: train loss 0.9548, val loss 2.2132\n",
            "step 2100: train loss 0.9006, val loss 2.2629\n",
            "step 2200: train loss 0.8569, val loss 2.3047\n",
            "step 2300: train loss 0.8116, val loss 2.3871\n",
            "step 2400: train loss 0.7808, val loss 2.4254\n",
            "step 2500: train loss 0.7474, val loss 2.4657\n",
            "step 2600: train loss 0.7087, val loss 2.5614\n",
            "step 2700: train loss 0.6941, val loss 2.5678\n",
            "step 2800: train loss 0.6633, val loss 2.5909\n",
            "step 2900: train loss 0.6301, val loss 2.6014\n",
            "step 3000: train loss 0.6131, val loss 2.7646\n",
            "step 3100: train loss 0.5890, val loss 2.8338\n",
            "step 3200: train loss 0.5606, val loss 2.7742\n",
            "step 3300: train loss 0.5535, val loss 2.8682\n",
            "step 3400: train loss 0.5419, val loss 2.9354\n",
            "step 3500: train loss 0.5278, val loss 2.9751\n",
            "step 3600: train loss 0.4982, val loss 3.0672\n",
            "step 3700: train loss 0.4971, val loss 3.0923\n",
            "step 3800: train loss 0.4779, val loss 3.0826\n",
            "step 3900: train loss 0.4696, val loss 3.0992\n",
            "step 4000: train loss 0.4805, val loss 3.1605\n",
            "step 4100: train loss 0.4578, val loss 3.1407\n",
            "step 4200: train loss 0.4537, val loss 3.3568\n",
            "step 4300: train loss 0.4393, val loss 3.2730\n",
            "step 4400: train loss 0.4269, val loss 3.2802\n",
            "step 4500: train loss 0.4270, val loss 3.3253\n",
            "step 4600: train loss 0.4250, val loss 3.3432\n",
            "step 4700: train loss 0.4141, val loss 3.3776\n",
            "step 4800: train loss 0.4114, val loss 3.4176\n",
            "step 4900: train loss 0.4144, val loss 3.3946\n",
            "step 4999: train loss 0.3976, val loss 3.5298\n"
          ]
        }
      ]
    },
    {
      "cell_type": "code",
      "source": [
        "# generate from the model\n",
        "context = torch.zeros((1, 1), dtype=torch.long, device=device)\n",
        "print(decode(m.generate(context, max_new_tokens=2000)[0].tolist()))"
      ],
      "metadata": {
        "colab": {
          "base_uri": "https://localhost:8080/"
        },
        "id": "9WwiYElM4oHu",
        "outputId": "b6b913c3-7fda-4a9f-e5a3-f559d9b920fb"
      },
      "execution_count": 21,
      "outputs": [
        {
          "output_type": "stream",
          "name": "stdout",
          "text": [
            "\n",
            "\n",
            "Rachel: Really?\n",
            "\n",
            "Ross: Disneyland, 1989, 'It's all an no.. I doing?\n",
            "\n",
            "Paolo: OK, I um.... we're kind of you ride mopeds? 'Who try ching to, hen no  and and Ross and Rachel are talking.]\n",
            "\n",
            "Rachel: Alright. It's been for the candle out, Rachel runswor, and we ife you shing.\n",
            "\n",
            "Ross: It was the others you're thing to do there thy nup, the pon that's choking. If you do it.\n",
            "\n",
            "Ross: But, um... I do.\n",
            "\n",
            "Rachel: (to Monica and Phoebe, Rachel, and, he accouple.\n",
            "\n",
            "Ross: Well, it.\n",
            "\n",
            "Joey: What?\n",
            "\n",
            "Chandler: (gasping) If you get in the... way, of us not so funny... (to Joey).... and Ross and Ross and a gup, on her 'I was. Thing.\n",
            "\n",
            "Paolo: Ah, you like to candls my cat.)\n",
            "\n",
            "Phoebe: Monica and Rachel's, time has passed. The five not mangeled! What have no idea.\n",
            "\n",
            "Ross: That's... thank\n",
            "\n",
            "Rachel: 9on't.\n",
            "\n",
            "Ross But I not in the zone.\n",
            "\n",
            "Joey: Ross, you're mayor of the zone.\n",
            "\n",
            "Ross: I'm take your move, and now you're in the friend zone.\n",
            "\n",
            "Ross: I've have no idea.\n",
            "\n",
            "Phoebe: (ants at Joey) What's not go the cat hel is a gorgeous Italian hunk hole.\n",
            "\n",
            "Rachel: Wow. (she exhandles we have, so... Happy Chanukah!\n",
            "\n",
            "[Scene: The ATM vestibule.]\n",
            "\n",
            "Chandler: Jill sares hole ack now  you're choking.\n",
            "\n",
            "(Chandler strides proudly across the vestibule and Jill stares at Pholy.)\n",
            "\n",
            "Phoebe: This is so nicat.\n",
            "\n",
            "Chandler: Shhh, you're thinking. In you topl it. Mugly, it's not.\n",
            "\n",
            "Chandler: I've be... (gics Ross)\n",
            "\n",
            "(Monica and Rachel loantly) Yeah, I'm fine. (trying with hip?\n",
            "\n",
            "Choey: Whand hung hing. ber, Paolo, are a strange look at Phoebe strangely.)\n",
            "\n",
            "Phoebe: This is standing on. If on he owner.\n",
            "\n",
            "Mr. Heckles: Yeah, aorly, is gum first ting with Paolo.)\n",
            "\n",
            "Paolo: Come on.\n",
            "\n",
            "Rachel: Wow, you guys. The entire city is trust to preset the sexs the only candles. The en mungling cat) He strprise parpplesed out is lansbrody right?\n",
            "\n",
            "Joewnicel: OK.\n",
            "\n",
            "Ross: (all Ross) OK, you'rou shushing. If you don'very mangles and right?\n",
            "\n",
            "(Chandler slyly gumess out with Paolo.]\n",
            "\n",
            "Ross: Don't want to bight the next door, Mr. Heckles answers) Hi. We just found this \n"
          ]
        }
      ]
    }
  ]
}